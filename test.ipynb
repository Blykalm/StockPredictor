{
 "cells": [
  {
   "cell_type": "code",
   "execution_count": 1,
   "metadata": {},
   "outputs": [],
   "source": [
    "import tensorflow as tf\n",
    "from tensorflow.keras.models import Sequential\n",
    "from tensorflow.keras.layers import Flatten\n",
    "from tensorflow.keras.layers import Dropout\n",
    "from tensorflow.keras.layers import Dense\n",
    "from tensorflow.keras.optimizers import Adam\n",
    "from tensorflow.keras.datasets import mnist"
   ]
  },
  {
   "cell_type": "code",
   "execution_count": 2,
   "metadata": {},
   "outputs": [],
   "source": [
    "tf.random.set_seed(42)\n",
    "\n",
    "hiddenLayerOne=784\n",
    "hiddenLayerTwo=256\n",
    "dropout=0.2\n",
    "learnRate=0.01"
   ]
  },
  {
   "cell_type": "code",
   "execution_count": 3,
   "metadata": {},
   "outputs": [],
   "source": [
    "# 1. Create the model\n",
    "model2 = Sequential([\n",
    "    Flatten(),\n",
    "    Dense(hiddenLayerOne, activation=\"relu\"),\n",
    "    Dropout(dropout),\n",
    "    Dense(hiddenLayerTwo, activation=\"relu\"),\n",
    "    Dropout(dropout),\n",
    "    Dense(10 ,activation=\"softmax\")\n",
    "])\n"
   ]
  },
  {
   "cell_type": "code",
   "execution_count": 4,
   "metadata": {},
   "outputs": [],
   "source": [
    "# 2. Compile the model\n",
    "model2.compile(loss=\"sparse_categorical_crossentropy\",\n",
    "optimizer = tf.keras.optimizers.Adam(learning_rate=learnRate),\n",
    "metrics=[\"accuracy\"])"
   ]
  },
  {
   "cell_type": "code",
   "execution_count": 7,
   "metadata": {},
   "outputs": [
    {
     "name": "stdout",
     "output_type": "stream",
     "text": [
      "Epoch 1/2\n",
      "7500/7500 [==============================] - 28s 4ms/step - loss: 0.8003 - accuracy: 0.8115 - val_loss: 0.4017 - val_accuracy: 0.9043\n",
      "Epoch 2/2\n",
      "7500/7500 [==============================] - 27s 4ms/step - loss: 0.6831 - accuracy: 0.8392 - val_loss: 0.4741 - val_accuracy: 0.8977\n"
     ]
    }
   ],
   "source": [
    "\n",
    "# 3. Fit the model\n",
    "history = model2.fit(x=trainData, \n",
    "                    y=trainLabels,\n",
    "                    validation_data=(testData, testLabels),\n",
    "                    batch_size=8,\n",
    "                    epochs=2,\n",
    "                    verbose=1)"
   ]
  },
  {
   "cell_type": "code",
   "execution_count": 6,
   "metadata": {},
   "outputs": [
    {
     "name": "stdout",
     "output_type": "stream",
     "text": [
      "[INFO] downloading MNIST...\n"
     ]
    }
   ],
   "source": [
    "# load the MNIST dataset\n",
    "print(\"[INFO] downloading MNIST...\")\n",
    "((trainData, trainLabels), (testData, testLabels)) = mnist.load_data()\n",
    "# scale data to the range of [0, 1]\n",
    "trainData = trainData.astype(\"float32\") / 255.0\n",
    "testData = testData.astype(\"float32\") / 255.0"
   ]
  }
 ],
 "metadata": {
  "kernelspec": {
   "display_name": "Python 3.8.8 ('base')",
   "language": "python",
   "name": "python3"
  },
  "language_info": {
   "codemirror_mode": {
    "name": "ipython",
    "version": 3
   },
   "file_extension": ".py",
   "mimetype": "text/x-python",
   "name": "python",
   "nbconvert_exporter": "python",
   "pygments_lexer": "ipython3",
   "version": "3.8.8"
  },
  "orig_nbformat": 4,
  "vscode": {
   "interpreter": {
    "hash": "91bb753b057673435fb8d6f6a083e6c818364728098c7ae050ca3a25357dd754"
   }
  }
 },
 "nbformat": 4,
 "nbformat_minor": 2
}
